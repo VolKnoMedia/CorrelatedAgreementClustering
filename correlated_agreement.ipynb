{
 "cells": [
  {
   "cell_type": "markdown",
   "metadata": {
    "id": "e9896hETFoYR"
   },
   "source": [
    "# Global Imports\n"
   ]
  },
  {
   "cell_type": "code",
   "execution_count": null,
   "metadata": {
    "colab": {
     "base_uri": "https://localhost:8080/"
    },
    "id": "1vwf07xSZC7I",
    "outputId": "b96bceb5-b2dc-46fc-ce1c-0efb54f5004a",
    "tags": []
   },
   "outputs": [],
   "source": [
    "import mysql.connector\n",
    "import random\n",
    "import pandas as pd\n",
    "import numpy as np\n",
    "from itertools import combinations, product\n",
    "import seaborn as sns; sns.set_theme()\n",
    "import matplotlib.pyplot as plt\n",
    "import warnings\n",
    "import matplotlib.gridspec as gridspec\n",
    "\n",
    "sns.set(style=\"ticks\")\n",
    "\n",
    "warnings.filterwarnings(\"ignore\")\n",
    "import math\n",
    "import collections\n",
    "\n",
    "import bisect\n",
    "\n",
    "import ast\n",
    "import datetime\n",
    "import itertools\n",
    "import json\n",
    "from functools import partial\n",
    "import os"
   ]
  },
  {
   "cell_type": "code",
   "execution_count": null,
   "metadata": {
    "id": "wgKxQEUAuqMJ"
   },
   "outputs": [],
   "source": [
    "\n",
    "from src.data import Content, Titles, DB, Meta\n",
    "from src.filtering import SceneHeuristic\n",
    "from src.utils import Cluster, CorrelationStructure, CStruct, Scenes, User, Users\n",
    "from src.scoring import Scores\n",
    "from src.models import K_Mean\n"
   ]
  },
  {
   "cell_type": "code",
   "execution_count": null,
   "metadata": {},
   "outputs": [],
   "source": []
  },
  {
   "cell_type": "markdown",
   "metadata": {
    "id": "QmXQal78_V00"
   },
   "source": [
    "# Clustering"
   ]
  },
  {
   "cell_type": "markdown",
   "metadata": {},
   "source": [
    "*Theory and Steps*\n",
    "https://docs.google.com/document/d/1Gis0vZxjqM5tR-G0LgE7NwJ02zgRdmys1sNmVLqSirc/edit?usp=sharing\n",
    "\n",
    "*Results*\n",
    "https://docs.google.com/document/d/1WuITMTViVCM6BXpMFqX_l8C_9Lgr6zZwLdZ_o-M_jos/edit#heading=h.cuzpdgemp057\n"
   ]
  },
  {
   "cell_type": "markdown",
   "metadata": {
    "id": "_5QV89RQVycB",
    "tags": []
   },
   "source": [
    "### Retrieval\n",
    "\n",
    "\n"
   ]
  },
  {
   "cell_type": "code",
   "execution_count": null,
   "metadata": {
    "id": "nPK5hQSzS8yA"
   },
   "outputs": [],
   "source": [
    "\n",
    "\n",
    "# read only web DB\n",
    "connector = {\"host\": os.environ.get('host'),\n",
    "              \"user\":os.environ.get('user'),\n",
    "              \"password\":os.environ.get('password')}\n",
    "\n",
    "titles = Titles(connector, 'movie', topScenes=6)\n",
    "\n"
   ]
  },
  {
   "cell_type": "code",
   "execution_count": null,
   "metadata": {
    "id": "Xdf8BCng-MWa"
   },
   "outputs": [],
   "source": [
    "db = DB(connector['host'],connector['user'],connector['password'])"
   ]
  },
  {
   "cell_type": "code",
   "execution_count": null,
   "metadata": {
    "id": "qXMXqRJyF1cJ"
   },
   "outputs": [],
   "source": [
    "titles.getResponses()"
   ]
  },
  {
   "cell_type": "code",
   "execution_count": null,
   "metadata": {
    "colab": {
     "base_uri": "https://localhost:8080/",
     "height": 241
    },
    "id": "3hmw1M1wmTZF",
    "outputId": "c32fc756-af28-4ee1-a873-83a0e0b877eb"
   },
   "outputs": [],
   "source": [
    "df = titles.getDataFrame()\n",
    "print(df.shape)\n",
    "df.head()"
   ]
  },
  {
   "cell_type": "markdown",
   "metadata": {
    "id": "1R63aRR3N2oN"
   },
   "source": [
    "### Pre-Proccessing"
   ]
  },
  {
   "cell_type": "code",
   "execution_count": null,
   "metadata": {
    "id": "W7TRsWnQnGa2"
   },
   "outputs": [],
   "source": [
    "def userNContent(df, minResponse):\n",
    "  df2 = df.join(df.groupby(df.user).contentIdx.nunique() > minResponse, on='user',how='left', rsuffix='r')\n",
    "  return df2.loc[df2.contentIdxr == True, df2.columns.intersection(['user',\t'sceneIdx',\t'emotion'\t,'contentIdx',\t'dateAdded'\t,'title'\t])]\n"
   ]
  },
  {
   "cell_type": "code",
   "execution_count": null,
   "metadata": {
    "colab": {
     "base_uri": "https://localhost:8080/",
     "height": 221
    },
    "id": "ig3ZJp4KMVPH",
    "outputId": "d73c93a5-2b0c-49f3-98d2-9ca9ada92439"
   },
   "outputs": [],
   "source": [
    "years = datetime.datetime.now() - datetime.timedelta(days=2*365)\n",
    "#responses in last 3 years\n",
    "df= df[df.dateAdded > years]\n",
    "print(df.shape)\n",
    "df.head()"
   ]
  },
  {
   "cell_type": "code",
   "execution_count": null,
   "metadata": {},
   "outputs": [],
   "source": [
    "df2 = userNContent(df, 14)\n",
    "print(df2.shape)\n",
    "df2.head()\n",
    "df2.user.nunique()"
   ]
  },
  {
   "cell_type": "code",
   "execution_count": null,
   "metadata": {
    "colab": {
     "base_uri": "https://localhost:8080/",
     "height": 221
    },
    "id": "zJT88UTIw6Kq",
    "outputId": "4a9827af-b454-4ad5-a890-569b63c94451"
   },
   "outputs": [],
   "source": [
    "km = K_Mean(df2, 5)"
   ]
  },
  {
   "cell_type": "markdown",
   "metadata": {
    "id": "4zqytWRUHcQ2"
   },
   "source": [
    "### Script Execution"
   ]
  },
  {
   "cell_type": "code",
   "execution_count": null,
   "metadata": {
    "colab": {
     "base_uri": "https://localhost:8080/",
     "height": 375
    },
    "id": "27E4phCjg9Mg",
    "outputId": "f93e8816-dda4-4964-d282-cb02d7493275"
   },
   "outputs": [],
   "source": [
    "km.oneVeresusAll(2, n=40, multiplier=3)"
   ]
  },
  {
   "cell_type": "code",
   "execution_count": null,
   "metadata": {},
   "outputs": [],
   "source": [
    "with open('../kmean_result.pkl', 'wb') as handle:\n",
    "    pickle.dump(km, handle, protocol=pickle.HIGHEST_PROTOCOL)"
   ]
  },
  {
   "cell_type": "markdown",
   "metadata": {},
   "source": []
  },
  {
   "cell_type": "code",
   "execution_count": null,
   "metadata": {
    "id": "WSbelS5oSyug"
   },
   "outputs": [],
   "source": [
    "counts = [len(i.users) for i in km.clusters]\n",
    "cluster = [i.clusterId for i in km.clusters]\n"
   ]
  },
  {
   "cell_type": "code",
   "execution_count": null,
   "metadata": {
    "colab": {
     "base_uri": "https://localhost:8080/",
     "height": 301
    },
    "id": "gFzXL5DpTLGN",
    "outputId": "343f05e0-eb44-4c36-f6a1-7ae295946f12"
   },
   "outputs": [],
   "source": [
    "# sns.barplot(x=cluster, y=counts).set_title('Users in Cluster (k=10)')"
   ]
  },
  {
   "cell_type": "code",
   "execution_count": null,
   "metadata": {},
   "outputs": [],
   "source": [
    "km.oneVeresusAll(2, n=40, multiplier=3)"
   ]
  },
  {
   "cell_type": "code",
   "execution_count": null,
   "metadata": {},
   "outputs": [],
   "source": []
  },
  {
   "cell_type": "code",
   "execution_count": null,
   "metadata": {
    "colab": {
     "base_uri": "https://localhost:8080/",
     "height": 181
    },
    "id": "5LQLK5EIX1i2",
    "outputId": "9a825f12-f761-4c9a-94c6-cca240b3270f"
   },
   "outputs": [],
   "source": [
    "# with open(f'''kmean_{datetime.now().strftime(\"%m_%d_%Y\")}.pkl''', 'wb') as fid:\n",
    "#   pickle.dump(km, fid)"
   ]
  },
  {
   "cell_type": "code",
   "execution_count": null,
   "metadata": {
    "id": "6ha83GuBZsLq"
   },
   "outputs": [],
   "source": [
    "# with open('kmean_05_26_2021.pkl', 'rb') as fid:\n",
    "#      km = pickle.load(fid)"
   ]
  },
  {
   "cell_type": "code",
   "execution_count": null,
   "metadata": {
    "colab": {
     "base_uri": "https://localhost:8080/"
    },
    "id": "rdy8HNTHougV",
    "outputId": "c7840de9-950d-445f-dc23-4cf456ec3f0a"
   },
   "outputs": [],
   "source": [
    "# 10000 // 4"
   ]
  },
  {
   "cell_type": "markdown",
   "metadata": {
    "id": "vgiR47m4-_NK"
   },
   "source": [
    "##### Calculation"
   ]
  },
  {
   "cell_type": "code",
   "execution_count": null,
   "metadata": {
    "id": "AXx1hqut5u3U"
   },
   "outputs": [],
   "source": [
    "s1 = Scores(km)"
   ]
  },
  {
   "cell_type": "code",
   "execution_count": null,
   "metadata": {
    "id": "8eQjmdgaqX6g"
   },
   "outputs": [],
   "source": [
    "s1.score(method='standard', n=30, debug=True)"
   ]
  },
  {
   "cell_type": "code",
   "execution_count": null,
   "metadata": {
    "colab": {
     "base_uri": "https://localhost:8080/",
     "height": 181
    },
    "id": "9VPuX8wgcOeG",
    "outputId": "9e24d582-9a7a-4a4c-b5a5-a183632e970c"
   },
   "outputs": [],
   "source": [
    "with open(f'''scores_{datetime.now().strftime(\"%m_%d_%Y\")}.pkl''', 'wb') as fid:\n",
    "  pickle.dump(s1, fid)"
   ]
  },
  {
   "cell_type": "code",
   "execution_count": null,
   "metadata": {},
   "outputs": [],
   "source": [
    "from datetime import datetime "
   ]
  },
  {
   "cell_type": "code",
   "execution_count": null,
   "metadata": {},
   "outputs": [],
   "source": [
    "with open(f'''scores_{datetime.now().strftime(\"%m_%d_%Y\")}.pkl''', 'wb') as fid:\n",
    "  pickle.dump(s1.userScores, fid)"
   ]
  },
  {
   "cell_type": "code",
   "execution_count": null,
   "metadata": {
    "id": "b0MlIeMrcRfm"
   },
   "outputs": [],
   "source": [
    "with open('scores_05_26_2021.pkl', 'rb') as fid:\n",
    "     s1 = pickle.load(fid)"
   ]
  },
  {
   "cell_type": "code",
   "execution_count": null,
   "metadata": {
    "colab": {
     "base_uri": "https://localhost:8080/",
     "height": 301
    },
    "id": "TS9QyULFV21Q",
    "outputId": "1977ee2d-aacf-4de3-9bb8-1a4318a582d6"
   },
   "outputs": [],
   "source": [
    "sns.histplot(np.array(list(s1.userScores.values()))).set_title(f\"Histogram of CAM Scores with n={len(s1.userScores)}\")"
   ]
  },
  {
   "cell_type": "code",
   "execution_count": null,
   "metadata": {
    "id": "UvcJXoLAYFRq"
   },
   "outputs": [],
   "source": [
    "from sklearn.preprocessing import minmax_scale, normalize, scale"
   ]
  },
  {
   "cell_type": "code",
   "execution_count": null,
   "metadata": {
    "colab": {
     "base_uri": "https://localhost:8080/",
     "height": 301
    },
    "id": "foUP4DLaYGGB",
    "outputId": "e0254b55-bc25-4359-d316-94bc40c61c4e"
   },
   "outputs": [],
   "source": [
    "# scale data between 0 and 1\n",
    "\n",
    "scaledValues = minmax_scale(np.array(list(s1.userScores.values())))\n",
    "\n",
    "\n",
    "sns.histplot(scaledValues).set_title(\"Historgram with Scaled Scores\")"
   ]
  },
  {
   "cell_type": "markdown",
   "metadata": {
    "id": "AqV1idgTgXjx"
   },
   "source": [
    "## Genre CLustering"
   ]
  },
  {
   "cell_type": "code",
   "execution_count": null,
   "metadata": {
    "id": "bz1VqvSOu8Pd"
   },
   "outputs": [],
   "source": [
    "movies = km.df.contentIdx.unique()\n",
    "dbPull = Titles(connector)\n",
    "dbPull.titles = movies\n",
    "dbPull.getResponses(debug=False)"
   ]
  },
  {
   "cell_type": "code",
   "execution_count": null,
   "metadata": {
    "colab": {
     "base_uri": "https://localhost:8080/"
    },
    "id": "CTaxYT-xwjoz",
    "outputId": "8be69b91-cc70-403d-e271-12414c43a23c"
   },
   "outputs": [],
   "source": [
    "%%time\n",
    "dfs = []\n",
    "for cont in dbPull.content:\n",
    "  temp = cont.ratings.loc[:, ['user','rating']]\n",
    "  temp['id'] = cont.id\n",
    "  temp['title'] = cont.title\n",
    "  temp['genres'] = temp.apply(lambda x: cont.genres, axis=1)\n",
    "  dfs.append(temp)\n",
    "\n",
    "gdf = pd.concat(dfs)"
   ]
  },
  {
   "cell_type": "code",
   "execution_count": null,
   "metadata": {
    "colab": {
     "base_uri": "https://localhost:8080/",
     "height": 204
    },
    "id": "xjRouv8L4RP5",
    "outputId": "c41d2697-00d9-417f-ebda-44549235b32d"
   },
   "outputs": [],
   "source": [
    "gdf.head()"
   ]
  },
  {
   "cell_type": "code",
   "execution_count": null,
   "metadata": {
    "colab": {
     "base_uri": "https://localhost:8080/",
     "height": 181
    },
    "id": "iAe0jAUd6st_",
    "outputId": "d96c7b44-76d7-42f9-c606-98acb101171e"
   },
   "outputs": [],
   "source": [
    "genres = list(set(itertools.chain.from_iterable(gdf.genres)))\n",
    "{}"
   ]
  },
  {
   "cell_type": "code",
   "execution_count": null,
   "metadata": {
    "colab": {
     "base_uri": "https://localhost:8080/",
     "height": 164
    },
    "id": "9C1g7EDE6zJB",
    "outputId": "a62428d5-042a-4f88-c742-39e7beed3ca9"
   },
   "outputs": [],
   "source": [
    "gdf[gdf.user == np.random.choice(gdf.user.unique())]"
   ]
  },
  {
   "cell_type": "code",
   "execution_count": null,
   "metadata": {
    "id": "YpNYIuoctbbi"
   },
   "outputs": [],
   "source": [
    "from collections import Counter"
   ]
  },
  {
   "cell_type": "code",
   "execution_count": null,
   "metadata": {
    "colab": {
     "base_uri": "https://localhost:8080/"
    },
    "id": "XASGyAcDpdQq",
    "outputId": "47521ea9-0043-47e3-8214-1516ade5827c"
   },
   "outputs": [],
   "source": [
    "%%time\n",
    "def getCaScores(user):\n",
    "  contentList = []\n",
    "  for hash in s1.users[user].scenes:\n",
    "    contentList.append(km.df[km.df.hash == hash].iloc[0].contentIdx)\n",
    "\n",
    "\n",
    "  caScores = {i:0 for i in set(contentList)}\n",
    "  caCounts = Counter(contentList)\n",
    "\n",
    "  for idx, content in enumerate(contentList):\n",
    "    caScores[content] += s1.users[user].scores[idx]\n",
    "\n",
    "  for ith in caScores:\n",
    "    caScores[ith] = caScores[ith] / caCounts[ith]\n",
    "  \n",
    "  return list(caScores.values())\n",
    "\n",
    "def getAllSCacores():\n",
    "  caScores = {}\n",
    "  for ithUser in s1.users:\n",
    "    caScores[ithUser] = getCaScores(ithUser)\n",
    "  \n",
    "  return caScores\n",
    "\n"
   ]
  },
  {
   "cell_type": "code",
   "execution_count": null,
   "metadata": {
    "colab": {
     "base_uri": "https://localhost:8080/",
     "height": 249
    },
    "id": "3BsM0Rw1n_Nq",
    "outputId": "e553516b-cb20-4eec-f314-7d36fb0762bc"
   },
   "outputs": [],
   "source": [
    "caScores = getAllSCacores()\n",
    "caScores"
   ]
  },
  {
   "cell_type": "markdown",
   "metadata": {
    "id": "cPWKjbM6GSPQ"
   },
   "source": [
    "### Payment Modeling"
   ]
  },
  {
   "cell_type": "code",
   "execution_count": null,
   "metadata": {
    "id": "uV4o0tKQgcRR"
   },
   "outputs": [],
   "source": [
    "\n",
    "db = DB(connector['host'], connector['user'],connector['password'])\n"
   ]
  },
  {
   "cell_type": "code",
   "execution_count": null,
   "metadata": {
    "id": "mZRjFyoU4d9l"
   },
   "outputs": [],
   "source": [
    "counts = pd.DataFrame(db.run(f'''SELECT user_id, COUNT(user_id) \n",
    "           FROM results \n",
    "           WHERE code = 'EMOJI' \n",
    "           GROUP BY user_id ; \n",
    "           '''), columns=['user','responses'])"
   ]
  },
  {
   "cell_type": "code",
   "execution_count": null,
   "metadata": {
    "id": "gRYQqws1BLZZ"
   },
   "outputs": [],
   "source": [
    "mediaCounts = pd.DataFrame(db.run(f'''SELECT user_id, COUNT(DISTINCT media_id) \n",
    "           FROM results \n",
    "           WHERE code = 'EMOJI' \n",
    "           GROUP BY user_id'''), columns=['user','mediaCount'])"
   ]
  },
  {
   "cell_type": "code",
   "execution_count": null,
   "metadata": {
    "colab": {
     "base_uri": "https://localhost:8080/",
     "height": 204
    },
    "id": "LQ0FXMZGpytC",
    "outputId": "042152a1-23ad-4e4a-ffe7-44e8bfc9d6b6"
   },
   "outputs": [],
   "source": [
    "earnings = pd.DataFrame(db.run(f'''SELECT user_id, ROUND(SUM(debit)/1000,2), ROUND(SUM(credit)/1000, 2), SUM(credit)\n",
    "           FROM flow\n",
    "           WHERE code = 'EMOJI'\n",
    "           GROUP BY user_id\n",
    "           ORDER BY SUM(credit) DESC\n",
    "           '''), columns=['user','redeem','earned','flow']).merge(counts).merge(mediaCounts)\n",
    "earnings.head()"
   ]
  },
  {
   "cell_type": "code",
   "execution_count": null,
   "metadata": {
    "colab": {
     "base_uri": "https://localhost:8080/"
    },
    "id": "pMhVjvKyxg8R",
    "outputId": "aed2826f-68f4-4ead-b605-6b700585a60e"
   },
   "outputs": [],
   "source": [
    "user = 1182\n",
    "print(s1.users[user].score, s1.users[user].cluster)\n",
    "np.unique(km.users[user].emotions, return_counts=True)"
   ]
  },
  {
   "cell_type": "code",
   "execution_count": null,
   "metadata": {
    "colab": {
     "base_uri": "https://localhost:8080/"
    },
    "id": "gvAbhayn8RaU",
    "outputId": "2ab8177d-a6b8-4a0c-9661-749726e2ae11"
   },
   "outputs": [],
   "source": [
    "print(earnings.shape)\n",
    "nearnings = earnings[(earnings.responses > 10) & (earnings.responses < 50000) ]\n",
    "nearnings['flow'] = nearnings['flow'].apply(pd.to_numeric)"
   ]
  },
  {
   "cell_type": "code",
   "execution_count": null,
   "metadata": {
    "colab": {
     "base_uri": "https://localhost:8080/",
     "height": 302
    },
    "id": "ve3sFgEK71ur",
    "outputId": "7502a272-6ffc-49ac-f756-37f7b6410510"
   },
   "outputs": [],
   "source": [
    "sns.regplot( x=nearnings.mediaCount, y=nearnings.flow)"
   ]
  },
  {
   "cell_type": "code",
   "execution_count": null,
   "metadata": {
    "id": "5KLWXO3ADnAe"
   },
   "outputs": [],
   "source": [
    "from sklearn import linear_model\n"
   ]
  },
  {
   "cell_type": "code",
   "execution_count": null,
   "metadata": {
    "colab": {
     "base_uri": "https://localhost:8080/",
     "height": 198
    },
    "id": "zBilWneimISx",
    "outputId": "4e36bf57-7edb-4485-d90b-17c14bed1e55"
   },
   "outputs": [],
   "source": [
    "regr = linear_model.LinearRegression()\n",
    "_x = nearnings.mediaCount.to_numpy().reshape(-1, 1)\n",
    "_y =  nearnings.flow.to_numpy().reshape(-1, 1)"
   ]
  },
  {
   "cell_type": "code",
   "execution_count": null,
   "metadata": {
    "colab": {
     "base_uri": "https://localhost:8080/"
    },
    "id": "KYagOTXEmWxg",
    "outputId": "759ff942-f155-4e7a-de63-7dd1d4b76196"
   },
   "outputs": [],
   "source": [
    "regr.fit(_x, _y)\n",
    "print('Coefficients: \\n', regr.coef_)\n"
   ]
  },
  {
   "cell_type": "markdown",
   "metadata": {
    "id": "7MKcgyT91HsR"
   },
   "source": [
    "### Quality Payments"
   ]
  },
  {
   "cell_type": "code",
   "execution_count": null,
   "metadata": {
    "id": "tzhv05q7m3g7"
   },
   "outputs": [],
   "source": [
    "def getGamma():\n",
    "  payouts = []\n",
    "  for ithUser in s1.users:\n",
    "    q = max(s1.users[ithUser].scores)\n",
    "    x_u = km.df[km.df.user == ithUser].contentIdx.unique().shape[0]\n",
    "    payouts.append(q * x_u)\n",
    "  ss1 = sum(payouts)\n",
    "\n",
    "  payouts = []\n",
    "  for ithUser in s1.users:\n",
    "    x = km.df[km.df.user == ithUser].contentIdx.unique().shape[0]\n",
    "    payouts.append(regr.coef_[0][0] * x)\n",
    "  ss2 = sum(payouts)\n",
    "  \n",
    "  return ss2/ss1\n",
    "\n",
    "def gammaTwo():\n",
    "  payouts = []\n",
    "  caScores = caScoreGet()\n",
    "  for ithUser in s1.users:\n",
    "    q = max((0, caScores[ithUser]))\n",
    "    x_u = km.df[km.df.user == ithUser].contentIdx.unique().shape[0]\n",
    "    payouts.append(q * x_u)\n",
    "  ss1 = sum(payouts)\n",
    "\n",
    "  payouts = []\n",
    "  for ithUser in s1.users:\n",
    "    x = km.df[km.df.user == ithUser].contentIdx.unique().shape[0]\n",
    "    payouts.append(regr.coef_[0][0] * x)\n",
    "  ss2 = sum(payouts)\n",
    "  \n",
    "\n",
    "  return ss2/ss1\n",
    "\n",
    "def caScoreGet():\n",
    "  scorees = {}\n",
    "  for user in s1.users:\n",
    "    scorees[user] = np.mean(s1.users[user].scores)\n",
    "  return scorees\n",
    "\n"
   ]
  },
  {
   "cell_type": "code",
   "execution_count": null,
   "metadata": {
    "colab": {
     "base_uri": "https://localhost:8080/",
     "height": 300
    },
    "id": "lSzPRIsUCWi3",
    "outputId": "a84c0c8f-d5a5-41f6-b2d7-d6a13d405ee8"
   },
   "outputs": [],
   "source": [
    "gamma = getGamma()\n",
    "gamma"
   ]
  },
  {
   "cell_type": "code",
   "execution_count": null,
   "metadata": {
    "id": "N0IQG-3J1TRf"
   },
   "outputs": [],
   "source": [
    "\n",
    "def getPayment(user,gammma,beta, alpha, debug=False):\n",
    "  q_u = s1.userScores[user]\n",
    "  x_u  = km.df[km.df.user == user].contentIdx.unique().shape[0]\n",
    "  y_u = regr.predict([[x_u]])[0][0]\n",
    "\n",
    "  quality = (gamma * q_u * x_u)\n",
    "  quantity = (x_u * beta)\n",
    "  if debug:\n",
    "    print(\"Score:\", q_u)\n",
    "    print(\"Quantity: \", quantity)\n",
    "    print(\"Quality: \", quality)\n",
    "  return (alpha * quantity) + ((1-alpha) * quality )\n",
    "\n",
    "def getPayment2(user,gammma,beta, alpha, caScore, debug=False):\n",
    "  q_u = caScore[user]\n",
    "  x_u  = km.df[km.df.user == user].contentIdx.unique().shape[0]\n",
    "  y_u = regr.predict([[x_u]])[0][0]\n",
    "\n",
    "  quality = (gamma * q_u * x_u)\n",
    "  quantity = (x_u * beta)\n",
    "  if debug:\n",
    "    print(\"Score:\", q_u)\n",
    "    print(\"Quantity: \", quantity)\n",
    "    print(\"Quality: \", quality)\n",
    "  return (alpha * quantity) + ((1-alpha) * quality )"
   ]
  },
  {
   "cell_type": "code",
   "execution_count": null,
   "metadata": {
    "colab": {
     "base_uri": "https://localhost:8080/"
    },
    "id": "imYUNKZb3cv6",
    "outputId": "636aecc8-089c-471c-bfab-c99539775b2e"
   },
   "outputs": [],
   "source": [
    "print(randomUser)\n",
    "gamma = getGamma()\n",
    "beta = regr.coef_[0][0]\n",
    "alpha = .5\n",
    "print(\"\\n Total Flow Payment\", round(getPayment(randomUser, gamma, beta, alpha, debug=True), 2))"
   ]
  },
  {
   "cell_type": "code",
   "execution_count": null,
   "metadata": {
    "colab": {
     "base_uri": "https://localhost:8080/"
    },
    "id": "uQTnurw-4Mt2",
    "outputId": "a8949395-c177-4f66-a87b-d2268908e086"
   },
   "outputs": [],
   "source": [
    "randomUser = np.random.choice(list(s1.users.keys()))\n",
    "print(randomUser)\n",
    "gamma = gammaTwo()\n",
    "caScores = caScoreGet()\n",
    "beta = regr.coef_[0][0]\n",
    "alpha = .5\n",
    "print(\"\\n Total Flow Payment\", round(getPayment2(randomUser, gamma, beta, alpha, caScores, debug=True), 2))"
   ]
  },
  {
   "cell_type": "code",
   "execution_count": null,
   "metadata": {
    "id": "EtPZvmI99bMQ"
   },
   "outputs": [],
   "source": [
    "def getAllUser(alpha):\n",
    "  gamma = getGamma()\n",
    "  beta = regr.coef_[0][0]\n",
    "  payment = {}\n",
    "  for ithUser in s1.users:\n",
    "    payment[ithUser] = getPayment(ithUser, gamma, beta, alpha, debug=False)\n",
    "  print(gamma)\n",
    "  return pd.Series(payment)\n",
    "\n",
    "def getAllUser2(alpha):\n",
    "  gamma = gammaTwo()\n",
    "  caScores = caScoreGet()\n",
    "  beta = 50\n",
    "  payment = {}\n",
    "  for ithUser in s1.users:\n",
    "    payment[ithUser] = getPayment2(ithUser, gamma, beta, alpha, caScores, debug=False)\n",
    "  return pd.Series(payment)\n",
    "\n"
   ]
  },
  {
   "cell_type": "code",
   "execution_count": null,
   "metadata": {
    "colab": {
     "base_uri": "https://localhost:8080/"
    },
    "id": "ea4opFjH-ZQW",
    "outputId": "3752ae5a-50b4-4d5e-92fe-37a32a0e38a3"
   },
   "outputs": [],
   "source": [
    "gammaTwo()"
   ]
  },
  {
   "cell_type": "code",
   "execution_count": null,
   "metadata": {
    "id": "Vcd5Sqhp9dV2"
   },
   "outputs": [],
   "source": [
    "slist = []\n",
    "for alpha in np.arange(0,1.1,0.2):\n",
    "  slist.append(getAllUser2(alpha))"
   ]
  },
  {
   "cell_type": "code",
   "execution_count": null,
   "metadata": {
    "colab": {
     "base_uri": "https://localhost:8080/",
     "height": 204
    },
    "id": "uGAkFRB0Habo",
    "outputId": "be9949ce-0090-42f1-ba7b-a8b39994b77d"
   },
   "outputs": [],
   "source": [
    "payments = pd.DataFrame(slist).transpose()\n",
    "payments.head()"
   ]
  },
  {
   "cell_type": "code",
   "execution_count": null,
   "metadata": {
    "colab": {
     "base_uri": "https://localhost:8080/"
    },
    "id": "cbOW22zY6dO0",
    "outputId": "9908651a-6a58-4bf8-d7e5-c4e43c86bc9a"
   },
   "outputs": [],
   "source": [
    "payments.sum()"
   ]
  },
  {
   "cell_type": "code",
   "execution_count": null,
   "metadata": {
    "colab": {
     "base_uri": "https://localhost:8080/",
     "height": 419
    },
    "id": "alibj970J479",
    "outputId": "f9db1552-6f44-4741-a967-ceea4185d942"
   },
   "outputs": [],
   "source": [
    "payments.sort_values(by=0, ascending=False)"
   ]
  },
  {
   "cell_type": "markdown",
   "metadata": {
    "id": "ldkH_O04RmpI"
   },
   "source": [
    "Alpha Level Histograms"
   ]
  },
  {
   "cell_type": "code",
   "execution_count": null,
   "metadata": {
    "colab": {
     "base_uri": "https://localhost:8080/",
     "height": 232
    },
    "id": "qtmu8uu1LWUD",
    "outputId": "96fff8af-780f-4a8d-95bc-605928e97b8f"
   },
   "outputs": [],
   "source": [
    "nIters = len(list(payments.columns))\n",
    "n_cols = 3\n",
    "n_rows = 2\n",
    "_, axes = plt.subplots(nrows=n_rows,ncols=n_cols ,figsize=((20,15)))\n",
    "\n",
    "for i, col in enumerate(payments.columns):\n",
    "  sns.histplot(payments.loc[:,col], ax=axes[i//n_cols,i%n_cols] ).set_title(f\"Alpha = {col * 0.2}\")"
   ]
  },
  {
   "cell_type": "code",
   "execution_count": null,
   "metadata": {
    "colab": {
     "base_uri": "https://localhost:8080/",
     "height": 198
    },
    "id": "aE6OE7rkFJ4x",
    "outputId": "9a5001a3-575d-4750-cc76-dec76fd090a7"
   },
   "outputs": [],
   "source": [
    "payvsaplha = payments.reset_index().rename(columns={'index':'user', 0:'0.0',1:'0.2',2:'0.4',3:'0.6',4:'0.8',5:'1'}).merge(earnings)\n",
    "payvsaplha['realFlow'] = payvsaplha.apply(lambda x: km.df[km.df.user == x.user].contentIdx.unique().shape[0] * 50, axis=1)\n",
    "payvsaplha.sort_values(by='flow', ascending=False).head()"
   ]
  },
  {
   "cell_type": "code",
   "execution_count": null,
   "metadata": {
    "colab": {
     "base_uri": "https://localhost:8080/",
     "height": 232
    },
    "id": "vV4t3qcuGN0W",
    "outputId": "55a7304e-d7d2-41fa-c224-ad6f7df0575e"
   },
   "outputs": [],
   "source": [
    "nIters = len(list(payments.columns))\n",
    "n_cols = 3\n",
    "n_rows = 2\n",
    "_, axes = plt.subplots(nrows=n_rows,ncols=n_cols ,figsize=((20,15)))\n",
    "\n",
    "\n",
    "for i, col in enumerate(['0.0','0.2',\t'0.4',\t'0.6',\t'0.8',\t'1']):\n",
    "  sns.scatterplot(x=payvsaplha['realFlow'], y=payvsaplha[col], ax=axes[i//n_cols,i%n_cols] ).set_title(f'Alphae = {col}')"
   ]
  },
  {
   "cell_type": "markdown",
   "metadata": {
    "id": "d6OGF2oSr9Bb"
   },
   "source": [
    "###### CA score"
   ]
  },
  {
   "cell_type": "code",
   "execution_count": null,
   "metadata": {
    "id": "m3_iZnnwLils"
   },
   "outputs": [],
   "source": [
    "ll = {ithuser:np.mean(s1.users[ithuser].scores) for ithuser in s1.users}"
   ]
  },
  {
   "cell_type": "code",
   "execution_count": null,
   "metadata": {
    "id": "6_E1xmK_UIhA"
   },
   "outputs": [],
   "source": [
    "caScores = caScoreGet()"
   ]
  },
  {
   "cell_type": "code",
   "execution_count": null,
   "metadata": {
    "colab": {
     "base_uri": "https://localhost:8080/"
    },
    "id": "LbHVCBB1sQ6l",
    "outputId": "d187700c-fa73-4eca-d540-f314b304c16d"
   },
   "outputs": [],
   "source": [
    "ca = pd.Series(caScores)\n",
    "ca.head()"
   ]
  },
  {
   "cell_type": "code",
   "execution_count": null,
   "metadata": {
    "colab": {
     "base_uri": "https://localhost:8080/",
     "height": 285
    },
    "id": "GWj76-qDakAD",
    "outputId": "9033ed6c-75c3-44af-8d24-9813d79e88ca"
   },
   "outputs": [],
   "source": [
    "sns.histplot(caScores)"
   ]
  },
  {
   "cell_type": "code",
   "execution_count": null,
   "metadata": {
    "colab": {
     "base_uri": "https://localhost:8080/"
    },
    "id": "4tLbBXB5sTpa",
    "outputId": "3f71e7b8-cec2-44df-8f3a-61f63afb1f4c"
   },
   "outputs": [],
   "source": [
    "bottomCut = list(ca.quantile([.1, .9]))[0]\n",
    "topCut = list(ca.quantile([.1, .9]))[1]\n",
    "bottomUsers = np.array(list(ca[ca < bottomCut].index))\n",
    "topUsers = np.array(list(ca[ca > topCut].index))\n",
    "print(f\"\"\"# Users Avg < {round(bottomCut, 4)}: {bottomUsers.shape[0]} \"\"\")\n",
    "print(f\"\"\"# Users Avg > {round(topCut,4)}: {topUsers.shape[0]} \"\"\")"
   ]
  },
  {
   "cell_type": "markdown",
   "metadata": {
    "id": "yQDJqXehA9WM"
   },
   "source": [
    "Do users with a lower average score respond less (Scenes)?\n"
   ]
  },
  {
   "cell_type": "code",
   "execution_count": null,
   "metadata": {
    "colab": {
     "base_uri": "https://localhost:8080/"
    },
    "id": "IbKkQn0gA-jh",
    "outputId": "c0449589-ff2a-4c2b-80d1-020a6842f148"
   },
   "outputs": [],
   "source": [
    "bcount = [km.users[i].scenes.shape[0] for i in bottomUsers]\n",
    "tcount = [km.users[i].scenes.shape[0] for i in topUsers]\n",
    "\n",
    "\n",
    "print(f'''On average, bottom users repsonded to {round(np.mean(bcount),1)} scenes''')\n",
    "print(f'''On average, top users repsonded to {round(np.mean(tcount),1)} scenes''')"
   ]
  },
  {
   "cell_type": "markdown",
   "metadata": {
    "id": "BNC-An2ZGSJz"
   },
   "source": [
    "Do users with a lower average score respond less (Content)?\n"
   ]
  },
  {
   "cell_type": "code",
   "execution_count": null,
   "metadata": {
    "colab": {
     "base_uri": "https://localhost:8080/"
    },
    "id": "hFRyA-TZGPBe",
    "outputId": "ef36d8b8-0910-45ab-96de-bb9a866c4241"
   },
   "outputs": [],
   "source": [
    "bcount = [km.df[km.df.user == i].contentIdx.unique().shape[0] for i in bottomUsers]\n",
    "tcount = [km.df[km.df.user == i].contentIdx.unique().shape[0] for i in topUsers]\n",
    "\n",
    "print(f'''On average, bottom users repsonded to {round(np.mean(bcount),1)} content''')\n",
    "print(f'''On average, top users repsonded to {round(np.mean(tcount),1)} content''')"
   ]
  },
  {
   "cell_type": "markdown",
   "metadata": {
    "id": "9Xp6-ChMvUjE"
   },
   "source": [
    "How does entropy differe between the two groups?"
   ]
  },
  {
   "cell_type": "code",
   "execution_count": null,
   "metadata": {
    "colab": {
     "base_uri": "https://localhost:8080/"
    },
    "id": "Z8uMvH4UvTvM",
    "outputId": "baf045fb-7fe7-49c4-a81f-c626b1285c7c"
   },
   "outputs": [],
   "source": [
    "botEntropy = [km.users[i].entropy for i in bottomUsers]\n",
    "topEntropy = [km.users[i].entropy for i in topUsers]\n",
    "normal =  [km.users[i].entropy for i in km.uniqueUsers]\n",
    "\n",
    "print(f'''The avg entropy for all users is : {round(np.mean(normal),4)} with a STD of {round(np.std(normal), 4)}''')\n",
    "print(f'''Users with lowest scores have an average entropy of {round(np.mean(botEntropy),4)} with a STD of {round(np.std(botEntropy),4)}''')\n",
    "print(f'''Users with highest scores have an average entropy of {round(np.mean(topEntropy),4)} with a STD of {round(np.std(topEntropy),4)}''')"
   ]
  },
  {
   "cell_type": "markdown",
   "metadata": {
    "id": "SmFW0-Z91IZ9"
   },
   "source": [
    "How do low scores respond compared to their clusters?"
   ]
  },
  {
   "cell_type": "code",
   "execution_count": null,
   "metadata": {
    "colab": {
     "base_uri": "https://localhost:8080/",
     "height": 355
    },
    "id": "upVX20U213g-",
    "outputId": "b68ca7d0-3717-4279-f7d5-e22d0a3700dc"
   },
   "outputs": [],
   "source": [
    "sceneData = []\n",
    "randomUser = km.users[np.random.choice(bottomUsers)]\n",
    "clust = randomUser.getCluster()\n",
    "\n",
    "for ithU in km.clusters[clust].users:\n",
    "  __u = km.users[ithU]\n",
    "  sceneData.append(__u.emotions)\n",
    "\n",
    "\n",
    "v1,c1 = np.unique(np.hstack(sceneData), return_counts=True)\n",
    "v2, c2 = np.unique(randomUser.emotions, return_counts=True)\n",
    "\n",
    "c1norm = c1 / c1.sum()\n",
    "c2norm = c2/c2.sum()\n",
    "\n",
    "_, axes = plt.subplots(ncols=2, sharey=True, figsize=(10,5))\n",
    "axes[0].set_title(f\"\"\"Cluster {clust}\"\"\")\n",
    "axes[1].set_title(\"User\")\n",
    "sns.barplot(y=c1norm, x=v1, order=v1 ,ax=axes[0]) \n",
    "sns.barplot(y=c2norm, x=v2, order=v1 , ax=axes[1]) "
   ]
  },
  {
   "cell_type": "markdown",
   "metadata": {
    "id": "TgjxNxN6-k6C"
   },
   "source": [
    "**How do high scorers respond compared to their clusters?**\n",
    "\n",
    "They appear to respond similarly to their cluster as other users -- even low scorers."
   ]
  },
  {
   "cell_type": "code",
   "execution_count": null,
   "metadata": {
    "colab": {
     "base_uri": "https://localhost:8080/",
     "height": 355
    },
    "id": "0lK6fcoK-kKY",
    "outputId": "9bbb0be9-7e10-4a10-c991-501c881d55bb"
   },
   "outputs": [],
   "source": [
    "sceneData = []\n",
    "randomUser = km.users[np.random.choice(topUsers)]\n",
    "clust = randomUser.getCluster()\n",
    "\n",
    "for ithU in km.clusters[clust].users:\n",
    "  __u = km.users[ithU]\n",
    "  sceneData.append(__u.emotions)\n",
    "\n",
    "\n",
    "v1,c1 = np.unique(np.hstack(sceneData), return_counts=True)\n",
    "v2, c2 = np.unique(randomUser.emotions, return_counts=True)\n",
    "\n",
    "c1norm = c1 / c1.sum()\n",
    "c2norm = c2/c2.sum()\n",
    "\n",
    "_, axes = plt.subplots(ncols=2, sharey=True, figsize=(10,5))\n",
    "axes[0].set_title(f\"\"\"Cluster {clust}\"\"\")\n",
    "axes[1].set_title(\"User\")\n",
    "sns.barplot(y=c1norm, x=v1, order=v1 ,ax=axes[0]) \n",
    "sns.barplot(y=c2norm, x=v2, order=v1 , ax=axes[1]) "
   ]
  },
  {
   "cell_type": "markdown",
   "metadata": {
    "id": "_YqW5euxwZb6"
   },
   "source": [
    "## Demographic Analysis"
   ]
  },
  {
   "cell_type": "code",
   "execution_count": null,
   "metadata": {
    "colab": {
     "base_uri": "https://localhost:8080/",
     "height": 164
    },
    "id": "m8OkNHvd8tQA",
    "outputId": "30406a16-fbb8-4610-f855-0a80c53d5262"
   },
   "outputs": [],
   "source": [
    "topUsers"
   ]
  },
  {
   "cell_type": "code",
   "execution_count": null,
   "metadata": {
    "colab": {
     "base_uri": "https://localhost:8080/"
    },
    "id": "g9LrD942wdBJ",
    "outputId": "1820e450-a643-46e5-fa3c-2b423c541aac"
   },
   "outputs": [],
   "source": [
    "bottomUsers"
   ]
  },
  {
   "cell_type": "code",
   "execution_count": null,
   "metadata": {
    "id": "_7oqWzDgwinW"
   },
   "outputs": [],
   "source": [
    "usersDf = db.run(f\"\"\"SELECT n.user_id, n.fname, n.lname, n.email, n.sex, n.ethnicity, n.income, n.parent, n.birthdate,a.postal_code, a.city, a.state,n.date_added \n",
    "                   FROM users n\n",
    "                   INNER JOIN user_addresses a ON n.user_id = a.user_id\n",
    "                   WHERE n.income IS NOT NULL\n",
    "                   ;\"\"\")\n",
    "usersDf = pd.DataFrame(usersDf, columns=['user','first','last','email','sex','ethnicity','income','parent','dob','zip','city','state','date'])"
   ]
  },
  {
   "cell_type": "code",
   "execution_count": null,
   "metadata": {
    "id": "hNC9Y5JQf0fH"
   },
   "outputs": [],
   "source": [
    "usersDf['age'] = usersDf.apply(lambda x:  datetime.now().year - x.dob.year, axis=1)"
   ]
  },
  {
   "cell_type": "code",
   "execution_count": null,
   "metadata": {
    "colab": {
     "base_uri": "https://localhost:8080/",
     "height": 204
    },
    "id": "d-Dn77xT1ORb",
    "outputId": "37afb5b1-39dc-4591-eada-7aaf3d5d76b5"
   },
   "outputs": [],
   "source": [
    "usersDf.head()"
   ]
  },
  {
   "cell_type": "code",
   "execution_count": null,
   "metadata": {
    "colab": {
     "base_uri": "https://localhost:8080/"
    },
    "id": "2ZEo8GOSwxIS",
    "outputId": "1a45523c-8b5a-4c06-8615-db547eb7f621"
   },
   "outputs": [],
   "source": [
    "eTop1 = usersDf[usersDf.user.isin(topUsers)].ethnicity.value_counts(normalize=True).sort_index(ascending=True)\n",
    "print(eTop1)\n",
    "eTop = eTop1.to_numpy()"
   ]
  },
  {
   "cell_type": "code",
   "execution_count": null,
   "metadata": {
    "colab": {
     "base_uri": "https://localhost:8080/"
    },
    "id": "wPuzUXqZwxw3",
    "outputId": "1109c7d3-60f2-4c81-de03-478193b2aa30"
   },
   "outputs": [],
   "source": [
    "eBott1 = usersDf[usersDf.user.isin(bottomUsers)].ethnicity.value_counts(normalize=True).sort_index(ascending=True)\n",
    "print(eBott1)\n",
    "eBott = eBott1.to_numpy()"
   ]
  },
  {
   "cell_type": "code",
   "execution_count": null,
   "metadata": {
    "colab": {
     "base_uri": "https://localhost:8080/"
    },
    "id": "2_r6YpSLxHfs",
    "outputId": "48fcf34a-7c9f-448b-eebc-4652dd73ac46"
   },
   "outputs": [],
   "source": [
    "exp1 = usersDf.ethnicity.value_counts(normalize=True).sort_index(ascending=True)\n",
    "print(exp1)\n",
    "exp = exp1.to_numpy()"
   ]
  },
  {
   "cell_type": "code",
   "execution_count": null,
   "metadata": {
    "id": "jqzzqkn9w9Ee"
   },
   "outputs": [],
   "source": [
    "from scipy.stats import chisquare"
   ]
  },
  {
   "cell_type": "code",
   "execution_count": null,
   "metadata": {
    "colab": {
     "base_uri": "https://localhost:8080/"
    },
    "id": "K8--gC54B13V",
    "outputId": "98b7af8a-45c6-4f23-9de9-0523de5414ee"
   },
   "outputs": [],
   "source": [
    "chisquare(f_obs=eTop, f_exp=exp)"
   ]
  },
  {
   "cell_type": "code",
   "execution_count": null,
   "metadata": {
    "colab": {
     "base_uri": "https://localhost:8080/"
    },
    "id": "xllEcO33CANQ",
    "outputId": "8a460a9c-60bb-412a-feaa-5510a5354352"
   },
   "outputs": [],
   "source": [
    "chisquare(f_obs=eBott, f_exp=exp)"
   ]
  },
  {
   "cell_type": "code",
   "execution_count": null,
   "metadata": {
    "colab": {
     "base_uri": "https://localhost:8080/",
     "height": 302
    },
    "id": "c4B9TnDcEc2h",
    "outputId": "7e552e83-82fd-4366-d013-6dd4bc74edba"
   },
   "outputs": [],
   "source": [
    "fig, ax = plt.subplots()\n",
    "pd.DataFrame([exp1, eTop1]).T.plot(kind='bar',  ax=ax)\n",
    "ax.legend([\"Population\", \"Top 10%\"]);\n",
    "ax.set_title(\"High Scoring Demographics VS All Users\")"
   ]
  },
  {
   "cell_type": "code",
   "execution_count": null,
   "metadata": {
    "colab": {
     "base_uri": "https://localhost:8080/",
     "height": 302
    },
    "id": "yTgAPP7VHlrz",
    "outputId": "d256bd3b-345b-479f-d3a7-d6a17022f47f"
   },
   "outputs": [],
   "source": [
    "fig, ax = plt.subplots()\n",
    "pd.DataFrame([exp1, eBott1]).T.plot(kind='bar',  ax=ax)\n",
    "ax.legend([\"Population\", \"Bottom 10%\"]);\n",
    "ax.set_title(\"Low Scoring Demographics VS All Users\")"
   ]
  },
  {
   "cell_type": "code",
   "execution_count": null,
   "metadata": {
    "colab": {
     "base_uri": "https://localhost:8080/"
    },
    "id": "bKlgYeAyJSvU",
    "outputId": "39e9046d-9470-4c4b-ba56-1af76599bc66"
   },
   "outputs": [],
   "source": [
    "eTop1 = usersDf[usersDf.user.isin(topUsers)].income.value_counts(normalize=True).sort_index(ascending=True)\n",
    "print(eTop1)\n",
    "eTop = eTop1.to_numpy()"
   ]
  },
  {
   "cell_type": "code",
   "execution_count": null,
   "metadata": {
    "colab": {
     "base_uri": "https://localhost:8080/"
    },
    "id": "hWVDNj5AKG0X",
    "outputId": "68f98399-c6d2-4704-f2a6-df89240b50d9"
   },
   "outputs": [],
   "source": [
    "eBott1 = usersDf[usersDf.user.isin(bottomUsers)].income.value_counts(normalize=True).sort_index(ascending=True)\n",
    "print(eBott1)\n",
    "eBott = eBott1.to_numpy()"
   ]
  },
  {
   "cell_type": "code",
   "execution_count": null,
   "metadata": {
    "colab": {
     "base_uri": "https://localhost:8080/"
    },
    "id": "PIwr-rDYMjGv",
    "outputId": "5083261a-114b-4cd0-cc6c-80bf0d1009bf"
   },
   "outputs": [],
   "source": [
    "exp1 = usersDf.income.value_counts(normalize=True).sort_index(ascending=True)\n",
    "print(exp1)\n",
    "exp = exp1.to_numpy()"
   ]
  },
  {
   "cell_type": "code",
   "execution_count": null,
   "metadata": {
    "colab": {
     "base_uri": "https://localhost:8080/",
     "height": 321
    },
    "id": "M1MUxrCJMqfS",
    "outputId": "3ca7c6ec-fed3-4e81-c0b4-0d69e2d6cca6"
   },
   "outputs": [],
   "source": [
    "fig, ax = plt.subplots()\n",
    "pd.DataFrame([exp1, eTop1]).T.plot(kind='bar',  ax=ax)\n",
    "ax.legend([\"Population\", \"Top 10%\"]);\n",
    "ax.set_title(\"High Scorers -- Income VS All Users\")"
   ]
  },
  {
   "cell_type": "code",
   "execution_count": null,
   "metadata": {
    "colab": {
     "base_uri": "https://localhost:8080/",
     "height": 321
    },
    "id": "4WPpSv8lM1_U",
    "outputId": "b03c8618-38a7-4147-dd91-0c1d69cb33b9"
   },
   "outputs": [],
   "source": [
    "fig, ax = plt.subplots()\n",
    "pd.DataFrame([exp1, eBott1]).T.plot(kind='bar',  ax=ax)\n",
    "ax.legend([\"Population\", \"Bottom 10%\"]);\n",
    "ax.set_title(\"Low Scoring Demographics VS All Users\")"
   ]
  },
  {
   "cell_type": "code",
   "execution_count": null,
   "metadata": {
    "colab": {
     "base_uri": "https://localhost:8080/"
    },
    "id": "ggeKiPY0Yl-Z",
    "outputId": "9fc60f47-0cc8-41e9-87b2-b4cec7f8a808"
   },
   "outputs": [],
   "source": [
    "eTop1 = usersDf[usersDf.user.isin(topUsers)].sex.value_counts(normalize=True).sort_index(ascending=True)\n",
    "print(eTop1)\n",
    "eTop = eTop1.to_numpy()"
   ]
  },
  {
   "cell_type": "code",
   "execution_count": null,
   "metadata": {
    "colab": {
     "base_uri": "https://localhost:8080/"
    },
    "id": "RBtTSgmNRxT2",
    "outputId": "dafdf32e-ab9d-4c1b-e0e5-3818c6dcaa44"
   },
   "outputs": [],
   "source": [
    "eBott1 = usersDf[usersDf.user.isin(bottomUsers)].sex.value_counts(normalize=True).sort_index(ascending=True)\n",
    "print(eBott1)\n",
    "eBott = eBott1.to_numpy()"
   ]
  },
  {
   "cell_type": "code",
   "execution_count": null,
   "metadata": {
    "colab": {
     "base_uri": "https://localhost:8080/"
    },
    "id": "Q3cE2E9xYi2p",
    "outputId": "4b006338-714d-434e-8050-c147597f294c"
   },
   "outputs": [],
   "source": [
    "exp1 = usersDf.sex.value_counts(normalize=True).sort_index(ascending=True)\n",
    "print(exp1)\n",
    "exp = exp1.to_numpy()"
   ]
  },
  {
   "cell_type": "code",
   "execution_count": null,
   "metadata": {
    "colab": {
     "base_uri": "https://localhost:8080/",
     "height": 300
    },
    "id": "oLDZJJUCYsyP",
    "outputId": "90f8d5ff-0262-4f01-894d-ba9c0cdcceaa"
   },
   "outputs": [],
   "source": [
    "fig, ax = plt.subplots()\n",
    "pd.DataFrame([exp1, eTop1]).T.plot(kind='bar',  ax=ax)\n",
    "ax.legend([\"Population\", \"Top 10%\"]);\n",
    "ax.set_title(\"High Scorers -- Income VS All Users\")"
   ]
  },
  {
   "cell_type": "code",
   "execution_count": null,
   "metadata": {
    "colab": {
     "base_uri": "https://localhost:8080/",
     "height": 300
    },
    "id": "UpESvsNxYu9s",
    "outputId": "c2a6f864-ca30-46c1-b272-9b10cacc9db3"
   },
   "outputs": [],
   "source": [
    "fig, ax = plt.subplots()\n",
    "pd.DataFrame([exp1, eBott1]).T.plot(kind='bar',  ax=ax)\n",
    "ax.legend([\"Population\", \"Bottom 10%\"]);\n",
    "ax.set_title(\"Low Scoring Demographics VS All Users\")"
   ]
  },
  {
   "cell_type": "code",
   "execution_count": null,
   "metadata": {
    "colab": {
     "base_uri": "https://localhost:8080/",
     "height": 301
    },
    "id": "PPhmIsF2gnd4",
    "outputId": "2046aacc-bba6-4e27-ea7e-36d0db89df27"
   },
   "outputs": [],
   "source": [
    "eTop1 = usersDf[usersDf.user.isin(topUsers)].age\n",
    "eTop = eTop1.to_numpy()\n",
    "sns.histplot(eTop).set_title(\"Age of High Scoring Users\")"
   ]
  },
  {
   "cell_type": "code",
   "execution_count": null,
   "metadata": {
    "colab": {
     "base_uri": "https://localhost:8080/",
     "height": 301
    },
    "id": "hvCmBNfcgoHM",
    "outputId": "b9ef48c1-13c2-4d78-b3c8-d30c0b390804"
   },
   "outputs": [],
   "source": [
    "eBott1 = usersDf[usersDf.user.isin(bottomUsers)].age\n",
    "eBott = eBott1.to_numpy()\n",
    "sns.histplot(eBott).set_title(\"Age of Low Scoring Users\")"
   ]
  },
  {
   "cell_type": "code",
   "execution_count": null,
   "metadata": {
    "colab": {
     "base_uri": "https://localhost:8080/",
     "height": 302
    },
    "id": "TgZ56DYxhCv7",
    "outputId": "d4723871-7233-4e60-8204-b5ee425af787"
   },
   "outputs": [],
   "source": [
    "sns.histplot(usersDf.age)"
   ]
  },
  {
   "cell_type": "markdown",
   "metadata": {
    "id": "Rm_TxT022dxY"
   },
   "source": [
    "## Length on Platform"
   ]
  },
  {
   "cell_type": "code",
   "execution_count": null,
   "metadata": {
    "id": "4BiPO51dAkpl"
   },
   "outputs": [],
   "source": [
    "interaction = db.run(f\"SELECT user_id, MIN(date_added), MAX(date_added), COUNT(*) FROM flow GROUP BY user_id\")"
   ]
  },
  {
   "cell_type": "code",
   "execution_count": null,
   "metadata": {
    "colab": {
     "base_uri": "https://localhost:8080/",
     "height": 204
    },
    "id": "Oftwm1NjAkhc",
    "outputId": "81991a5a-610d-496b-cde4-f536d528f4b5"
   },
   "outputs": [],
   "source": [
    "inDf = pd.DataFrame(interaction, columns=['user','i1','i2', 'nInteractions'])\n",
    "inDf.head()"
   ]
  },
  {
   "cell_type": "code",
   "execution_count": null,
   "metadata": {
    "id": "qcrdLfbqBYg3"
   },
   "outputs": [],
   "source": [
    "inDf['delta']  = inDf.i2 - inDf.i1"
   ]
  },
  {
   "cell_type": "code",
   "execution_count": null,
   "metadata": {
    "id": "RRp4Vrs9B1Zr"
   },
   "outputs": [],
   "source": [
    "inDf['deltaday'] = inDf.apply(lambda x: x.delta.days, axis=1)"
   ]
  },
  {
   "cell_type": "code",
   "execution_count": null,
   "metadata": {
    "id": "TIpudv0ZCdxs"
   },
   "outputs": [],
   "source": [
    "active = inDf[inDf.deltaday > 2]"
   ]
  },
  {
   "cell_type": "code",
   "execution_count": null,
   "metadata": {
    "colab": {
     "base_uri": "https://localhost:8080/"
    },
    "id": "KcyyasVwCUmv",
    "outputId": "02d72f01-f64d-492c-8162-0c04cfc39cd1"
   },
   "outputs": [],
   "source": [
    "print('All registered users ', inDf.shape[0])\n",
    "# all users that have been on platform longer that 1 day\n",
    "print('Users w/more than one day on platform ',active.shape[0])"
   ]
  },
  {
   "cell_type": "code",
   "execution_count": null,
   "metadata": {
    "colab": {
     "base_uri": "https://localhost:8080/"
    },
    "id": "bgUm7zQRDIzG",
    "outputId": "83fd1da4-623b-4e3d-8e5c-00dbdd6a4b71"
   },
   "outputs": [],
   "source": [
    "print(\"Median days on platform: \", active.deltaday.median())"
   ]
  },
  {
   "cell_type": "code",
   "execution_count": null,
   "metadata": {
    "colab": {
     "base_uri": "https://localhost:8080/"
    },
    "id": "M2Fz3k2RDgJK",
    "outputId": "dfb5c119-024a-4bbc-df95-3f3622f5cf92"
   },
   "outputs": [],
   "source": [
    "print(f\"Mean: {active.deltaday.describe()['mean']} and STD: {active.deltaday.describe()['std']}\")"
   ]
  },
  {
   "cell_type": "code",
   "execution_count": null,
   "metadata": {
    "colab": {
     "base_uri": "https://localhost:8080/"
    },
    "id": "LvFO0H8GFPuV",
    "outputId": "3f175f9f-a2f0-4d1d-b7e7-a3f5670ed390"
   },
   "outputs": [],
   "source": [
    "print(f\"Median of interactions for active users: {active.nInteractions.median()}\")"
   ]
  },
  {
   "cell_type": "markdown",
   "metadata": {
    "id": "ucTrdPZeJfG4"
   },
   "source": [
    "Top and Bottom Users time on platform"
   ]
  },
  {
   "cell_type": "code",
   "execution_count": null,
   "metadata": {
    "colab": {
     "base_uri": "https://localhost:8080/",
     "height": 318
    },
    "id": "1wWy_3ErJekX",
    "outputId": "8788d6ee-9270-4db4-eb61-91af19bf8329"
   },
   "outputs": [],
   "source": [
    "sns.histplot(inDf[inDf.user.isin(topUsers)].deltaday).set_title(\"Top Users time on Platform\")"
   ]
  },
  {
   "cell_type": "code",
   "execution_count": null,
   "metadata": {
    "colab": {
     "base_uri": "https://localhost:8080/",
     "height": 318
    },
    "id": "9CdeMoCqKS8_",
    "outputId": "9819cbd0-ac5a-4ad6-a4df-67c8b3f2748c"
   },
   "outputs": [],
   "source": [
    "sns.histplot(inDf[inDf.user.isin(bottomUsers)].deltaday).set_title(\"Worst users time on platform\")"
   ]
  },
  {
   "cell_type": "code",
   "execution_count": null,
   "metadata": {
    "id": "UjmcRgacQf1p"
   },
   "outputs": [],
   "source": [
    "oldestLongest =inDf.sort_values(by='nInteractions', ascending=False).iloc[:140]"
   ]
  },
  {
   "cell_type": "code",
   "execution_count": null,
   "metadata": {
    "id": "dLjmKsKoTmiB"
   },
   "outputs": [],
   "source": []
  },
  {
   "cell_type": "code",
   "execution_count": null,
   "metadata": {
    "colab": {
     "base_uri": "https://localhost:8080/"
    },
    "id": "YHTvXMChRKMA",
    "outputId": "a64cbfd2-70c5-4b78-f561-667e0773ed23"
   },
   "outputs": [],
   "source": [
    "topBot = np.intersect1d(oldestLongest.user.to_numpy(), topUsers)\n",
    "print(topBot.shape[0])"
   ]
  },
  {
   "cell_type": "code",
   "execution_count": null,
   "metadata": {
    "colab": {
     "base_uri": "https://localhost:8080/"
    },
    "id": "irqJhDtkSVSs",
    "outputId": "32908c4c-0cb5-4815-98e0-42eee92139e1"
   },
   "outputs": [],
   "source": [
    "oldBot = np.intersect1d(oldestLongest.user.to_numpy(), bottomUsers)\n",
    "print(oldBot.shape[0])"
   ]
  },
  {
   "cell_type": "code",
   "execution_count": null,
   "metadata": {
    "colab": {
     "base_uri": "https://localhost:8080/",
     "height": 301
    },
    "id": "txswVFT0SvdL",
    "outputId": "a595d706-016d-4707-bead-5743ec71b7c0"
   },
   "outputs": [],
   "source": [
    "rid = np.random.choice(topBot)\n",
    "\n",
    "values, counts = np.unique(km.users[rid].emotions, return_counts=True) \n",
    "sns.barplot(x=values, y=counts).set_title(f'User {rid} in cluster {km.users[rid].getCluster()}')"
   ]
  },
  {
   "cell_type": "code",
   "execution_count": null,
   "metadata": {
    "colab": {
     "base_uri": "https://localhost:8080/",
     "height": 301
    },
    "id": "CnVPg6txTrlm",
    "outputId": "681cee9f-a894-4295-cb86-c713a4fb968a"
   },
   "outputs": [],
   "source": [
    "rid = np.random.choice(oldBot)\n",
    "\n",
    "values, counts = np.unique(km.users[rid].emotions, return_counts=True) \n",
    "sns.barplot(x=values, y=counts).set_title(f'User {rid} in cluster {km.users[rid].getCluster()}')"
   ]
  },
  {
   "cell_type": "markdown",
   "metadata": {
    "id": "InT57D4IXyul"
   },
   "source": [
    "## Cluster for each user in top or bottom"
   ]
  },
  {
   "cell_type": "code",
   "execution_count": null,
   "metadata": {
    "colab": {
     "base_uri": "https://localhost:8080/",
     "height": 301
    },
    "id": "4kX-VNEzX2HB",
    "outputId": "8daee633-b57b-453a-e71f-8415360aaf3a"
   },
   "outputs": [],
   "source": [
    "values, counts = np.unique(np.array([km.users[i].getCluster() for i in topUsers]), return_counts=True)\n",
    "sns.barplot(x=values, y=counts).set_title(f'Clusters of Top Users')"
   ]
  },
  {
   "cell_type": "code",
   "execution_count": null,
   "metadata": {
    "colab": {
     "base_uri": "https://localhost:8080/",
     "height": 301
    },
    "id": "3UdsBY9iYccy",
    "outputId": "b0b5e8c5-d846-4b2d-cd4d-809d262627e1"
   },
   "outputs": [],
   "source": [
    "values, counts = np.unique(np.array([km.users[i].getCluster() for i in bottomUsers]), return_counts=True)\n",
    "sns.barplot(x=values, y=counts).set_title(f'Clusters of Bottom Users')"
   ]
  },
  {
   "cell_type": "code",
   "execution_count": null,
   "metadata": {
    "colab": {
     "base_uri": "https://localhost:8080/",
     "height": 301
    },
    "id": "OpEsh7D_YjdS",
    "outputId": "1708ba3b-0aa9-4a6b-bf56-3be244b7d282"
   },
   "outputs": [],
   "source": [
    "values, counts = np.unique(np.array([km.users[i].getCluster() for i in km.uniqueUsers]), return_counts=True)\n",
    "sns.barplot(x=values, y=counts).set_title(f'Clusters of All Users')"
   ]
  },
  {
   "cell_type": "markdown",
   "metadata": {
    "id": "PRr-QfEjBtrY"
   },
   "source": [
    "## User Activity"
   ]
  },
  {
   "cell_type": "markdown",
   "metadata": {
    "id": "irTONViWlQ1l"
   },
   "source": [
    "## Clusters"
   ]
  },
  {
   "cell_type": "markdown",
   "metadata": {
    "id": "ZbHAl3FUBjeZ"
   },
   "source": [
    "## Clust Viz"
   ]
  },
  {
   "cell_type": "code",
   "execution_count": null,
   "metadata": {
    "id": "AmPhZlCABmps"
   },
   "outputs": [],
   "source": [
    "flattened = {}\n",
    "for user in km.uniqueUsers:\n",
    "  flattened[user] = np.array([i.vector for i in km.users[user].struct.vectors]).flatten()"
   ]
  },
  {
   "cell_type": "code",
   "execution_count": null,
   "metadata": {
    "id": "gskM_0RxlOx3"
   },
   "outputs": [],
   "source": [
    "vectors = pd.DataFrame(flattened).T"
   ]
  },
  {
   "cell_type": "code",
   "execution_count": null,
   "metadata": {
    "id": "wUkpsBwSo3IA"
   },
   "outputs": [],
   "source": [
    "from sklearn.manifold import TSNE"
   ]
  },
  {
   "cell_type": "code",
   "execution_count": null,
   "metadata": {
    "colab": {
     "base_uri": "https://localhost:8080/"
    },
    "id": "4DBRsykOoc6U",
    "outputId": "f19cd550-2f1a-4e7b-c7a3-2b21076ca407"
   },
   "outputs": [],
   "source": [
    "tsne = TSNE(random_state = 42, n_components=2,verbose=1, perplexity=50, n_iter=300, early_exaggeration= 10).fit_transform(vectors)"
   ]
  },
  {
   "cell_type": "code",
   "execution_count": null,
   "metadata": {
    "colab": {
     "base_uri": "https://localhost:8080/",
     "height": 204
    },
    "id": "ggzeYwd5pQAG",
    "outputId": "57a91bbe-2a44-4722-c244-9d899a15924e"
   },
   "outputs": [],
   "source": [
    "vizDf = pd.DataFrame(tsne, columns=['x','y'], index=vectors.index).reset_index().rename(columns={'index':'user'})\n",
    "vizDf['cluster'] = vizDf.apply(lambda x: km.users[x.user].getCluster(), axis=1)\n",
    "vizDf.head()"
   ]
  },
  {
   "cell_type": "code",
   "execution_count": null,
   "metadata": {
    "colab": {
     "base_uri": "https://localhost:8080/",
     "height": 284
    },
    "id": "-cf_d8pCo8nT",
    "outputId": "e7c1ea01-cef2-4d84-b8c4-a41d229d80a3"
   },
   "outputs": [],
   "source": [
    "plt.scatter(vizDf['x'], vizDf['y'], s= 5, c=vizDf['cluster'], cmap='Spectral')\n",
    "plt.gca().set_aspect('equal', 'datalim')\n",
    "plt.colorbar(boundaries=np.arange(7)-0.5).set_ticks(np.arange(6))\n",
    "plt.title('User Clusters Based Visualization ', fontsize=12);"
   ]
  },
  {
   "cell_type": "code",
   "execution_count": null,
   "metadata": {
    "id": "X3EO2Qa_o_a_"
   },
   "outputs": [],
   "source": [
    "import plotly.express as px"
   ]
  },
  {
   "cell_type": "code",
   "execution_count": null,
   "metadata": {
    "colab": {
     "base_uri": "https://localhost:8080/",
     "height": 340
    },
    "id": "iCOkVjac0bW4",
    "outputId": "9ede2b6e-f1dc-411a-ba39-c20221259a0d"
   },
   "outputs": [],
   "source": [
    "tsne = TSNE(random_state = 42, n_components=3,verbose=1, perplexity=50, n_iter=300, early_exaggeration= 10).fit_transform(vectors)\n",
    "vizDf = pd.DataFrame(tsne, columns=['x','y','z'], index=vectors.index).reset_index().rename(columns={'index':'user'})\n",
    "vizDf['cluster'] = vizDf.apply(lambda x: km.users[x.user].getCluster(), axis=1)\n",
    "vizDf.head()"
   ]
  },
  {
   "cell_type": "code",
   "execution_count": null,
   "metadata": {
    "colab": {
     "base_uri": "https://localhost:8080/",
     "height": 542
    },
    "id": "nmto1MsxzQ1C",
    "outputId": "564ed69b-f16c-423f-c42b-8198e6c61e3c"
   },
   "outputs": [],
   "source": [
    "fig = px.scatter_3d(\n",
    "    vizDf, x='x', y='y', z='z',\n",
    "    color='cluster', hover_data=['user','cluster'])\n",
    "fig.update_traces(marker_size=8)\n",
    "fig.show()"
   ]
  },
  {
   "cell_type": "code",
   "execution_count": null,
   "metadata": {
    "colab": {
     "base_uri": "https://localhost:8080/",
     "height": 340
    },
    "id": "pQ9E7C3-zzJt",
    "outputId": "486c24c1-98bd-46b1-8361-1c5fb4c0336d"
   },
   "outputs": [],
   "source": [
    "tsne = TSNE(random_state = 42, n_components=2,verbose=1, perplexity=50, n_iter=300, early_exaggeration= 10).fit_transform(vectors)\n",
    "vizDf = pd.DataFrame(tsne, columns=['x','y'], index=vectors.index).reset_index().rename(columns={'index':'user'})\n",
    "vizDf['cluster'] = vizDf.apply(lambda x: km.users[x.user].getCluster(), axis=1)\n",
    "vizDf.head()"
   ]
  },
  {
   "cell_type": "code",
   "execution_count": null,
   "metadata": {
    "colab": {
     "base_uri": "https://localhost:8080/",
     "height": 542
    },
    "id": "tB7ga7Ei0js1",
    "outputId": "d93cd67c-c052-4ba6-8ec1-af51664226a1"
   },
   "outputs": [],
   "source": [
    "fig = px.scatter(\n",
    "    vizDf, x='x', y='y',\n",
    "    color='cluster', hover_data=['user','cluster'])\n",
    "fig.update_traces(marker_size=8)\n",
    "fig.show()"
   ]
  },
  {
   "cell_type": "code",
   "execution_count": null,
   "metadata": {
    "colab": {
     "base_uri": "https://localhost:8080/"
    },
    "id": "1769fnKf0rYb",
    "outputId": "604e784a-0423-40ea-a338-0aeb714224a6"
   },
   "outputs": [],
   "source": [
    "db.run(f\"describe user_cluster\")"
   ]
  },
  {
   "cell_type": "code",
   "execution_count": null,
   "metadata": {
    "colab": {
     "base_uri": "https://localhost:8080/",
     "height": 35
    },
    "id": "ujcIKodZSv9H",
    "outputId": "ff8716e0-7084-41b2-f0b2-066e3b637b20"
   },
   "outputs": [],
   "source": [
    "INSERT INTO table_name (column1, column2, column3, ...)\n",
    "VALUES (value1, value2, value3, ...);"
   ]
  },
  {
   "cell_type": "code",
   "execution_count": null,
   "metadata": {
    "colab": {
     "base_uri": "https://localhost:8080/"
    },
    "id": "SgF2rtkTTWgk",
    "outputId": "f8244f77-315e-4120-94d2-67f55ee6d66b"
   },
   "outputs": [],
   "source": [
    "for idx, row in vizDf.iterrows():\n",
    "  if idx % 100 == 0: print(f'[Insert into DB]: Row {idx}')\n",
    "  print(int(row.cluster), int(row.user))\n",
    "  db.run(f'''INSERT INTO user_cluster (user_cluster_id, user_id, x, y)\n",
    "             VALUES ({row.cluster}, {row.user}, {row.x}, {row.y});''')\n"
   ]
  },
  {
   "cell_type": "code",
   "execution_count": null,
   "metadata": {
    "id": "2H5JZKqvVPKw"
   },
   "outputs": [],
   "source": []
  },
  {
   "cell_type": "code",
   "execution_count": null,
   "metadata": {
    "colab": {
     "base_uri": "https://localhost:8080/",
     "height": 542
    },
    "id": "EZ6gCzBpWIYf",
    "outputId": "d89893a5-eb73-413b-f5f0-98d083073d2f"
   },
   "outputs": [],
   "source": [
    "import plotly.express as px\n",
    "import pandas as pd\n",
    "\n",
    "\n",
    "data = db.run(\"select * from user_cluster\")\n",
    "df = pd.DataFrame(data, columns=['index','user','cluster','x','y','date'])\n",
    "\n",
    "fig = px.scatter(\n",
    "    df, x='x', y='y',\n",
    "    color='cluster', hover_data=['user','cluster'])\n",
    "fig.update_traces(marker_size=8)\n",
    "fig.show()"
   ]
  },
  {
   "cell_type": "code",
   "execution_count": null,
   "metadata": {
    "colab": {
     "base_uri": "https://localhost:8080/",
     "height": 164
    },
    "id": "kGCZS3Med6Ts",
    "outputId": "e1e2f2c1-f884-4ea7-bc18-950bf9d16173"
   },
   "outputs": [],
   "source": [
    "db.run(\"select * from user_cluster\")"
   ]
  },
  {
   "cell_type": "code",
   "execution_count": null,
   "metadata": {
    "id": "DXmHDajEryQn"
   },
   "outputs": [],
   "source": []
  }
 ],
 "metadata": {
  "colab": {
   "collapsed_sections": [],
   "name": "Copy of Correlated Agreement Mechanism",
   "provenance": []
  },
  "kernelspec": {
   "display_name": "Python 3.7.9 ('scoringmodel')",
   "language": "python",
   "name": "python3"
  },
  "language_info": {
   "codemirror_mode": {
    "name": "ipython",
    "version": 3
   },
   "file_extension": ".py",
   "mimetype": "text/x-python",
   "name": "python",
   "nbconvert_exporter": "python",
   "pygments_lexer": "ipython3",
   "version": "3.7.9"
  },
  "vscode": {
   "interpreter": {
    "hash": "7a2956797b635585387cfde98f951842e890be21cb6c54ca3fc09491334fe965"
   }
  }
 },
 "nbformat": 4,
 "nbformat_minor": 4
}
